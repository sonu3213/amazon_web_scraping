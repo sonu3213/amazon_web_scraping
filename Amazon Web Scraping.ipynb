{
 "cells": [
  {
   "cell_type": "code",
   "execution_count": 2,
   "id": "65925afb",
   "metadata": {},
   "outputs": [],
   "source": [
    "# import libraries \n",
    "\n",
    "from bs4 import BeautifulSoup\n",
    "import requests\n",
    "import time\n",
    "import datetime\n",
    "\n",
    "import smtplib"
   ]
  },
  {
   "cell_type": "code",
   "execution_count": 19,
   "id": "f8d4d531",
   "metadata": {},
   "outputs": [
    {
     "name": "stdout",
     "output_type": "stream",
     "text": [
      "GANT Herren Reg Shield C-Neck Sweat Sweatshirt\n",
      "69.31\n"
     ]
    }
   ],
   "source": [
    "#Connect to website and pull in data\n",
    "\n",
    "URL = 'https://www.amazon.de/-/en/Shield-C-Neck-Sweat-Sweatshirt-Evening/dp/B0BG59PYCK/ref=sr_1_8?dib=eyJ2IjoiMSJ9.bjBtM7f78BZO3TzyqxjFuehAmlnq1vmkP5_2xzsqpLRdvlIXn_7DN0KOPJWH7isg4DVDsl1pmaKk7v9ptmgfqYH3atjCYfj7YEuYuq5CnRmu7UE5515tg111XzJiMXnBWqHHLbgfZRErjQFzTHfOFfN5lDzoE-xLsz2VCbRKSiOSpt6GYZbtHGts2_JNpRhZPBTtOzS3IPqyN-0puGruynBUcADsXkxpY5YusA80Jp9kCA66DesVZIA9BKUZ6wUsq7CBMVhIF_WCSqeE6qta1Qoe1JxiRtppoelhBgK7xd2tvLm8WS1suczes_I1pdLuuc81XMXQa-_2q7MbjIj6eOcnVLDVFcTWzKogRYqojAJqoO3wOCu77Fki1bXW2HHT_8DCRzd-ipAMfXXFOHhF0dgTc6LVbrlZWYuoUJ9nLYwxCxlRZg-0gw0vLFblPvYY.JxUt0PHCf0WlLvyIYIXjADLZdKCXHxbFSGRbQRr-N3Q&dib_tag=se&qid=1738409123&rnid=1981298031&s=apparel&sr=1-8&th=1&psc=1'\n",
    "\n",
    "headers = {\"User-Agent\" : \"Mozilla/5.0 (Windows NT 10.0; Win64; x64) AppleWebKit/537.36 (KHTML, like Gecko) Chrome/132.0.0.0 Safari/537.36\" , \"Accept-Encoding\":\"gzip, deflate\", \"Accept\":\"text/html,application/xhtml+xml,application/xml;q=0.9,*/*;q=0.8\", \"DNT\":\"1\",\"Connection\":\"close\", \"Upgrade-Insecure-Requests\":\"1\"}\n",
    "\n",
    "page = requests.get(URL, headers = headers)\n",
    "\n",
    "soup1 = BeautifulSoup(page.content, \"html.parser\")\n",
    "\n",
    "soup2 = BeautifulSoup(soup1.prettify(), \"html.parser\")\n",
    "\n",
    "\n",
    "title = soup2.find(id = \"productTitle\").get_text().strip()\n",
    "\n",
    "pr = soup2.find('span', class_ = \"aok-offscreen\").get_text()\n",
    "t = pr.split()\n",
    "price = t[0][1:]\n",
    "\n",
    "print(title)\n",
    "print(price)\n",
    "\n"
   ]
  },
  {
   "cell_type": "code",
   "execution_count": 38,
   "id": "3f117734",
   "metadata": {},
   "outputs": [],
   "source": [
    "import csv\n",
    "\n",
    "header = ['Title', 'Price', 'Date']\n",
    "data = [title, price, today]\n",
    "\n",
    "\n",
    "with open('AmazonWebScraperDataset.csv', 'w', newline ='', encoding = 'UTF8') as f:\n",
    "    writer = csv.writer(f)\n",
    "    writer.writerow(header)\n",
    "    writer.writerow(data)\n",
    "\n"
   ]
  },
  {
   "cell_type": "code",
   "execution_count": 28,
   "id": "568fd8d6",
   "metadata": {},
   "outputs": [
    {
     "data": {
      "text/plain": [
       "'C:\\\\Users\\\\hp\\\\Documents\\\\My Python Projects'"
      ]
     },
     "execution_count": 28,
     "metadata": {},
     "output_type": "execute_result"
    }
   ],
   "source": [
    "pwd"
   ]
  },
  {
   "cell_type": "code",
   "execution_count": 24,
   "id": "5b814540",
   "metadata": {},
   "outputs": [
    {
     "name": "stdout",
     "output_type": "stream",
     "text": [
      "2025-02-01\n"
     ]
    }
   ],
   "source": [
    "import datetime\n",
    "today = datetime.date.today()\n",
    "print(today)"
   ]
  },
  {
   "cell_type": "code",
   "execution_count": 42,
   "id": "3a246162",
   "metadata": {},
   "outputs": [
    {
     "data": {
      "text/html": [
       "<div>\n",
       "<style scoped>\n",
       "    .dataframe tbody tr th:only-of-type {\n",
       "        vertical-align: middle;\n",
       "    }\n",
       "\n",
       "    .dataframe tbody tr th {\n",
       "        vertical-align: top;\n",
       "    }\n",
       "\n",
       "    .dataframe thead th {\n",
       "        text-align: right;\n",
       "    }\n",
       "</style>\n",
       "<table border=\"1\" class=\"dataframe\">\n",
       "  <thead>\n",
       "    <tr style=\"text-align: right;\">\n",
       "      <th></th>\n",
       "      <th>Title</th>\n",
       "      <th>Price</th>\n",
       "      <th>Date</th>\n",
       "    </tr>\n",
       "  </thead>\n",
       "  <tbody>\n",
       "    <tr>\n",
       "      <th>0</th>\n",
       "      <td>GANT Herren Reg Shield C-Neck Sweat Sweatshirt</td>\n",
       "      <td>69.31</td>\n",
       "      <td>2025-02-01</td>\n",
       "    </tr>\n",
       "    <tr>\n",
       "      <th>1</th>\n",
       "      <td>GANT Herren Reg Shield C-Neck Sweat Sweatshirt</td>\n",
       "      <td>69.31</td>\n",
       "      <td>2025-02-01</td>\n",
       "    </tr>\n",
       "    <tr>\n",
       "      <th>2</th>\n",
       "      <td>GANT Herren Reg Shield C-Neck Sweat Sweatshirt</td>\n",
       "      <td>69.31</td>\n",
       "      <td>2025-02-01</td>\n",
       "    </tr>\n",
       "  </tbody>\n",
       "</table>\n",
       "</div>"
      ],
      "text/plain": [
       "                                            Title  Price        Date\n",
       "0  GANT Herren Reg Shield C-Neck Sweat Sweatshirt  69.31  2025-02-01\n",
       "1  GANT Herren Reg Shield C-Neck Sweat Sweatshirt  69.31  2025-02-01\n",
       "2  GANT Herren Reg Shield C-Neck Sweat Sweatshirt  69.31  2025-02-01"
      ]
     },
     "execution_count": 42,
     "metadata": {},
     "output_type": "execute_result"
    }
   ],
   "source": [
    "import pandas as pd\n",
    "\n",
    "df = pd.read_csv(r'AmazonWebScraperDataset.csv')\n",
    "df\n"
   ]
  },
  {
   "cell_type": "code",
   "execution_count": null,
   "id": "6761eda1",
   "metadata": {},
   "outputs": [],
   "source": [
    "#Appending data to the csv\n",
    "\n",
    "with open('AmazonWebScraperDataset.csv', 'w', newline ='', encoding = 'UTF8') as f:\n",
    "    writer = csv.writer(f)\n",
    "    writer.writerow(header)\n",
    "    writer.writerow(data)\n"
   ]
  },
  {
   "cell_type": "code",
   "execution_count": 47,
   "id": "a28bb57e",
   "metadata": {},
   "outputs": [],
   "source": [
    "def check_price():\n",
    "    URL = 'https://www.amazon.de/-/en/Shield-C-Neck-Sweat-Sweatshirt-Evening/dp/B0BG59PYCK/ref=sr_1_8?dib=eyJ2IjoiMSJ9.bjBtM7f78BZO3TzyqxjFuehAmlnq1vmkP5_2xzsqpLRdvlIXn_7DN0KOPJWH7isg4DVDsl1pmaKk7v9ptmgfqYH3atjCYfj7YEuYuq5CnRmu7UE5515tg111XzJiMXnBWqHHLbgfZRErjQFzTHfOFfN5lDzoE-xLsz2VCbRKSiOSpt6GYZbtHGts2_JNpRhZPBTtOzS3IPqyN-0puGruynBUcADsXkxpY5YusA80Jp9kCA66DesVZIA9BKUZ6wUsq7CBMVhIF_WCSqeE6qta1Qoe1JxiRtppoelhBgK7xd2tvLm8WS1suczes_I1pdLuuc81XMXQa-_2q7MbjIj6eOcnVLDVFcTWzKogRYqojAJqoO3wOCu77Fki1bXW2HHT_8DCRzd-ipAMfXXFOHhF0dgTc6LVbrlZWYuoUJ9nLYwxCxlRZg-0gw0vLFblPvYY.JxUt0PHCf0WlLvyIYIXjADLZdKCXHxbFSGRbQRr-N3Q&dib_tag=se&qid=1738409123&rnid=1981298031&s=apparel&sr=1-8&th=1&psc=1'\n",
    "\n",
    "    headers = {\"User-Agent\" : \"Mozilla/5.0 (Windows NT 10.0; Win64; x64) AppleWebKit/537.36 (KHTML, like Gecko) Chrome/132.0.0.0 Safari/537.36\" , \"Accept-Encoding\":\"gzip, deflate\", \"Accept\":\"text/html,application/xhtml+xml,application/xml;q=0.9,*/*;q=0.8\", \"DNT\":\"1\",\"Connection\":\"close\", \"Upgrade-Insecure-Requests\":\"1\"}\n",
    "\n",
    "    page = requests.get(URL, headers = headers)\n",
    "\n",
    "    soup1 = BeautifulSoup(page.content, \"html.parser\")\n",
    "\n",
    "    soup2 = BeautifulSoup(soup1.prettify(), \"html.parser\")\n",
    "\n",
    "\n",
    "    title = soup2.find(id = \"productTitle\").get_text()\n",
    "    title = title.strip()\n",
    "\n",
    "    pr = soup2.find('span', class_ = \"aok-offscreen\").get_text()\n",
    "    t = pr.split()\n",
    "    price = t[0][1:]\n",
    "    \n",
    "    \n",
    "    import datetime\n",
    "    today = datetime.date.today()\n",
    "    \n",
    "    import csv\n",
    "\n",
    "    header = ['Title', 'Price', 'Date']\n",
    "    data = [title, price, today]\n",
    "\n",
    "    \n",
    "    import pandas as pd\n",
    "\n",
    "    df = pd.read_csv(r'AmazonWebScraperDataset.csv')\n",
    "    df\n",
    "    \n",
    "    with open('AmazonWebScraperDataset.csv', 'a+', newline ='', encoding = 'UTF8') as f:\n",
    "        writer = csv.writer(f)\n",
    "        writer.writerow(data)\n",
    "    if(price<70):\n",
    "        send_mail()\n",
    "\n",
    "\n",
    "    \n",
    " "
   ]
  },
  {
   "cell_type": "code",
   "execution_count": 45,
   "id": "13208e41",
   "metadata": {},
   "outputs": [
    {
     "data": {
      "text/html": [
       "<div>\n",
       "<style scoped>\n",
       "    .dataframe tbody tr th:only-of-type {\n",
       "        vertical-align: middle;\n",
       "    }\n",
       "\n",
       "    .dataframe tbody tr th {\n",
       "        vertical-align: top;\n",
       "    }\n",
       "\n",
       "    .dataframe thead th {\n",
       "        text-align: right;\n",
       "    }\n",
       "</style>\n",
       "<table border=\"1\" class=\"dataframe\">\n",
       "  <thead>\n",
       "    <tr style=\"text-align: right;\">\n",
       "      <th></th>\n",
       "      <th>Title</th>\n",
       "      <th>Price</th>\n",
       "      <th>Date</th>\n",
       "    </tr>\n",
       "  </thead>\n",
       "  <tbody>\n",
       "    <tr>\n",
       "      <th>0</th>\n",
       "      <td>GANT Herren Reg Shield C-Neck Sweat Sweatshirt</td>\n",
       "      <td>69.31</td>\n",
       "      <td>2025-02-01</td>\n",
       "    </tr>\n",
       "    <tr>\n",
       "      <th>1</th>\n",
       "      <td>GANT Herren Reg Shield C-Neck Sweat Sweatshirt</td>\n",
       "      <td>69.31</td>\n",
       "      <td>2025-02-01</td>\n",
       "    </tr>\n",
       "    <tr>\n",
       "      <th>2</th>\n",
       "      <td>GANT Herren Reg Shield C-Neck Sweat Sweatshirt</td>\n",
       "      <td>69.31</td>\n",
       "      <td>2025-02-01</td>\n",
       "    </tr>\n",
       "  </tbody>\n",
       "</table>\n",
       "</div>"
      ],
      "text/plain": [
       "                                            Title  Price        Date\n",
       "0  GANT Herren Reg Shield C-Neck Sweat Sweatshirt  69.31  2025-02-01\n",
       "1  GANT Herren Reg Shield C-Neck Sweat Sweatshirt  69.31  2025-02-01\n",
       "2  GANT Herren Reg Shield C-Neck Sweat Sweatshirt  69.31  2025-02-01"
      ]
     },
     "execution_count": 45,
     "metadata": {},
     "output_type": "execute_result"
    }
   ],
   "source": [
    "df"
   ]
  },
  {
   "cell_type": "code",
   "execution_count": null,
   "id": "4edd7c34",
   "metadata": {},
   "outputs": [],
   "source": [
    "#Runs check price after a set time\n",
    "\n",
    "while(True):\n",
    "    check_price()\n",
    "    time.sleep(5)"
   ]
  },
  {
   "cell_type": "code",
   "execution_count": 49,
   "id": "fcdc3fa7",
   "metadata": {},
   "outputs": [],
   "source": [
    "# If you want to try sending yourself an email (just for fun) when a price hits below a certain level you can try it\n",
    "# out with this script\n",
    "\n",
    "def send_mail():\n",
    "    server = smtplib.SMTP_SSL('smtp.gmail.com',465)\n",
    "    server.ehlo()\n",
    "    #server.starttls()\n",
    "    server.ehlo()\n",
    "    server.login('appuonline5487@gmail.com','iamhere333*')\n",
    "    \n",
    "    subject = \"The T-Shirt you want is below €70! Now is your chance to buy!\"\n",
    "    body = \"Sonu, This is the moment we have been waiting for. Now is your chance to pick up the T-shirt of your dreams. Don't mess it up! Link here: https://www.amazon.de/-/en/Shield-C-Neck-Sweat-Sweatshirt-Evening/dp/B0BG59PYCK/ref=sr_1_8?dib=eyJ2IjoiMSJ9.bjBtM7f78BZO3TzyqxjFuehAmlnq1vmkP5_2xzsqpLRdvlIXn_7DN0KOPJWH7isg4DVDsl1pmaKk7v9ptmgfqYH3atjCYfj7YEuYuq5CnRmu7UE5515tg111XzJiMXnBWqHHLbgfZRErjQFzTHfOFfN5lDzoE-xLsz2VCbRKSiOSpt6GYZbtHGts2_JNpRhZPBTtOzS3IPqyN-0puGruynBUcADsXkxpY5YusA80Jp9kCA66DesVZIA9BKUZ6wUsq7CBMVhIF_WCSqeE6qta1Qoe1JxiRtppoelhBgK7xd2tvLm8WS1suczes_I1pdLuuc81XMXQa-_2q7MbjIj6eOcnVLDVFcTWzKogRYqojAJqoO3wOCu77Fki1bXW2HHT_8DCRzd-ipAMfXXFOHhF0dgTc6LVbrlZWYuoUJ9nLYwxCxlRZg-0gw0vLFblPvYY.JxUt0PHCf0WlLvyIYIXjADLZdKCXHxbFSGRbQRr-N3Q&dib_tag=se&qid=1738409123&rnid=1981298031&s=apparel&sr=1-8&th=1&psc=1'\"\n",
    "   \n",
    "    msg = f\"Subject: {subject}\\n\\n{body}\"\n",
    "    \n",
    "    server.sendmail(\n",
    "        'appuonline5487@gmail.com',\n",
    "        msg\n",
    "     \n",
    "    )"
   ]
  },
  {
   "cell_type": "code",
   "execution_count": 53,
   "id": "f6584581",
   "metadata": {},
   "outputs": [
    {
     "data": {
      "text/plain": [
       "float"
      ]
     },
     "execution_count": 53,
     "metadata": {},
     "output_type": "execute_result"
    }
   ],
   "source": [
    "price = float(price)\n",
    "type(price)"
   ]
  },
  {
   "cell_type": "code",
   "execution_count": 50,
   "id": "7c968c75",
   "metadata": {},
   "outputs": [
    {
     "ename": "SMTPAuthenticationError",
     "evalue": "(535, b'5.7.8 Username and Password not accepted. For more information, go to\\n5.7.8  https://support.google.com/mail/?p=BadCredentials a640c23a62f3a-ab6e49ff98bsm476705866b.101 - gsmtp')",
     "output_type": "error",
     "traceback": [
      "\u001b[1;31m---------------------------------------------------------------------------\u001b[0m",
      "\u001b[1;31mSMTPAuthenticationError\u001b[0m                   Traceback (most recent call last)",
      "Cell \u001b[1;32mIn[50], line 1\u001b[0m\n\u001b[1;32m----> 1\u001b[0m send_mail()\n",
      "Cell \u001b[1;32mIn[49], line 9\u001b[0m, in \u001b[0;36msend_mail\u001b[1;34m()\u001b[0m\n\u001b[0;32m      7\u001b[0m \u001b[38;5;66;03m#server.starttls()\u001b[39;00m\n\u001b[0;32m      8\u001b[0m server\u001b[38;5;241m.\u001b[39mehlo()\n\u001b[1;32m----> 9\u001b[0m server\u001b[38;5;241m.\u001b[39mlogin(\u001b[38;5;124m'\u001b[39m\u001b[38;5;124mappuonline5487@gmail.com\u001b[39m\u001b[38;5;124m'\u001b[39m,\u001b[38;5;124m'\u001b[39m\u001b[38;5;124miamhere333*\u001b[39m\u001b[38;5;124m'\u001b[39m)\n\u001b[0;32m     11\u001b[0m subject \u001b[38;5;241m=\u001b[39m \u001b[38;5;124m\"\u001b[39m\u001b[38;5;124mThe T-Shirt you want is below €70! Now is your chance to buy!\u001b[39m\u001b[38;5;124m\"\u001b[39m\n\u001b[0;32m     12\u001b[0m body \u001b[38;5;241m=\u001b[39m \u001b[38;5;124m\"\u001b[39m\u001b[38;5;124mSonu, This is the moment we have been waiting for. Now is your chance to pick up the T-shirt of your dreams. Don\u001b[39m\u001b[38;5;124m'\u001b[39m\u001b[38;5;124mt mess it up! Link here: https://www.amazon.de/-/en/Shield-C-Neck-Sweat-Sweatshirt-Evening/dp/B0BG59PYCK/ref=sr_1_8?dib=eyJ2IjoiMSJ9.bjBtM7f78BZO3TzyqxjFuehAmlnq1vmkP5_2xzsqpLRdvlIXn_7DN0KOPJWH7isg4DVDsl1pmaKk7v9ptmgfqYH3atjCYfj7YEuYuq5CnRmu7UE5515tg111XzJiMXnBWqHHLbgfZRErjQFzTHfOFfN5lDzoE-xLsz2VCbRKSiOSpt6GYZbtHGts2_JNpRhZPBTtOzS3IPqyN-0puGruynBUcADsXkxpY5YusA80Jp9kCA66DesVZIA9BKUZ6wUsq7CBMVhIF_WCSqeE6qta1Qoe1JxiRtppoelhBgK7xd2tvLm8WS1suczes_I1pdLuuc81XMXQa-_2q7MbjIj6eOcnVLDVFcTWzKogRYqojAJqoO3wOCu77Fki1bXW2HHT_8DCRzd-ipAMfXXFOHhF0dgTc6LVbrlZWYuoUJ9nLYwxCxlRZg-0gw0vLFblPvYY.JxUt0PHCf0WlLvyIYIXjADLZdKCXHxbFSGRbQRr-N3Q&dib_tag=se&qid=1738409123&rnid=1981298031&s=apparel&sr=1-8&th=1&psc=1\u001b[39m\u001b[38;5;124m'\u001b[39m\u001b[38;5;124m\"\u001b[39m\n",
      "File \u001b[1;32m~\\anaconda3\\Lib\\smtplib.py:750\u001b[0m, in \u001b[0;36mSMTP.login\u001b[1;34m(self, user, password, initial_response_ok)\u001b[0m\n\u001b[0;32m    747\u001b[0m         last_exception \u001b[38;5;241m=\u001b[39m e\n\u001b[0;32m    749\u001b[0m \u001b[38;5;66;03m# We could not login successfully.  Return result of last attempt.\u001b[39;00m\n\u001b[1;32m--> 750\u001b[0m \u001b[38;5;28;01mraise\u001b[39;00m last_exception\n",
      "File \u001b[1;32m~\\anaconda3\\Lib\\smtplib.py:739\u001b[0m, in \u001b[0;36mSMTP.login\u001b[1;34m(self, user, password, initial_response_ok)\u001b[0m\n\u001b[0;32m    737\u001b[0m method_name \u001b[38;5;241m=\u001b[39m \u001b[38;5;124m'\u001b[39m\u001b[38;5;124mauth_\u001b[39m\u001b[38;5;124m'\u001b[39m \u001b[38;5;241m+\u001b[39m authmethod\u001b[38;5;241m.\u001b[39mlower()\u001b[38;5;241m.\u001b[39mreplace(\u001b[38;5;124m'\u001b[39m\u001b[38;5;124m-\u001b[39m\u001b[38;5;124m'\u001b[39m, \u001b[38;5;124m'\u001b[39m\u001b[38;5;124m_\u001b[39m\u001b[38;5;124m'\u001b[39m)\n\u001b[0;32m    738\u001b[0m \u001b[38;5;28;01mtry\u001b[39;00m:\n\u001b[1;32m--> 739\u001b[0m     (code, resp) \u001b[38;5;241m=\u001b[39m \u001b[38;5;28mself\u001b[39m\u001b[38;5;241m.\u001b[39mauth(\n\u001b[0;32m    740\u001b[0m         authmethod, \u001b[38;5;28mgetattr\u001b[39m(\u001b[38;5;28mself\u001b[39m, method_name),\n\u001b[0;32m    741\u001b[0m         initial_response_ok\u001b[38;5;241m=\u001b[39minitial_response_ok)\n\u001b[0;32m    742\u001b[0m     \u001b[38;5;66;03m# 235 == 'Authentication successful'\u001b[39;00m\n\u001b[0;32m    743\u001b[0m     \u001b[38;5;66;03m# 503 == 'Error: already authenticated'\u001b[39;00m\n\u001b[0;32m    744\u001b[0m     \u001b[38;5;28;01mif\u001b[39;00m code \u001b[38;5;129;01min\u001b[39;00m (\u001b[38;5;241m235\u001b[39m, \u001b[38;5;241m503\u001b[39m):\n",
      "File \u001b[1;32m~\\anaconda3\\Lib\\smtplib.py:662\u001b[0m, in \u001b[0;36mSMTP.auth\u001b[1;34m(self, mechanism, authobject, initial_response_ok)\u001b[0m\n\u001b[0;32m    660\u001b[0m \u001b[38;5;28;01mif\u001b[39;00m code \u001b[38;5;129;01min\u001b[39;00m (\u001b[38;5;241m235\u001b[39m, \u001b[38;5;241m503\u001b[39m):\n\u001b[0;32m    661\u001b[0m     \u001b[38;5;28;01mreturn\u001b[39;00m (code, resp)\n\u001b[1;32m--> 662\u001b[0m \u001b[38;5;28;01mraise\u001b[39;00m SMTPAuthenticationError(code, resp)\n",
      "\u001b[1;31mSMTPAuthenticationError\u001b[0m: (535, b'5.7.8 Username and Password not accepted. For more information, go to\\n5.7.8  https://support.google.com/mail/?p=BadCredentials a640c23a62f3a-ab6e49ff98bsm476705866b.101 - gsmtp')"
     ]
    }
   ],
   "source": [
    "send_mail()"
   ]
  },
  {
   "cell_type": "code",
   "execution_count": null,
   "id": "3c5509a2",
   "metadata": {},
   "outputs": [],
   "source": []
  }
 ],
 "metadata": {
  "kernelspec": {
   "display_name": "Python 3 (ipykernel)",
   "language": "python",
   "name": "python3"
  },
  "language_info": {
   "codemirror_mode": {
    "name": "ipython",
    "version": 3
   },
   "file_extension": ".py",
   "mimetype": "text/x-python",
   "name": "python",
   "nbconvert_exporter": "python",
   "pygments_lexer": "ipython3",
   "version": "3.11.5"
  }
 },
 "nbformat": 4,
 "nbformat_minor": 5
}
