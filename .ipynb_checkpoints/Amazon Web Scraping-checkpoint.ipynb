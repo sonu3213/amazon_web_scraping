{
 "cells": [
  {
   "cell_type": "code",
   "execution_count": 2,
   "id": "65925afb",
   "metadata": {},
   "outputs": [],
   "source": [
    "# import libraries \n",
    "\n",
    "from bs4 import BeautifulSoup\n",
    "import requests\n",
    "import time\n",
    "import datetime\n",
    "\n",
    "import smtplib"
   ]
  },
  {
   "cell_type": "code",
   "execution_count": 19,
   "id": "f8d4d531",
   "metadata": {},
   "outputs": [
    {
     "name": "stdout",
     "output_type": "stream",
     "text": [
      "GANT Herren Reg Shield C-Neck Sweat Sweatshirt\n",
      "69.31\n"
     ]
    }
   ],
   "source": [
    "#Connect to website and pull in data\n",
    "\n",
    "URL = 'https://www.amazon.de/-/en/Shield-C-Neck-Sweat-Sweatshirt-Evening/dp/B0BG59PYCK/ref=sr_1_8?dib=eyJ2IjoiMSJ9.bjBtM7f78BZO3TzyqxjFuehAmlnq1vmkP5_2xzsqpLRdvlIXn_7DN0KOPJWH7isg4DVDsl1pmaKk7v9ptmgfqYH3atjCYfj7YEuYuq5CnRmu7UE5515tg111XzJiMXnBWqHHLbgfZRErjQFzTHfOFfN5lDzoE-xLsz2VCbRKSiOSpt6GYZbtHGts2_JNpRhZPBTtOzS3IPqyN-0puGruynBUcADsXkxpY5YusA80Jp9kCA66DesVZIA9BKUZ6wUsq7CBMVhIF_WCSqeE6qta1Qoe1JxiRtppoelhBgK7xd2tvLm8WS1suczes_I1pdLuuc81XMXQa-_2q7MbjIj6eOcnVLDVFcTWzKogRYqojAJqoO3wOCu77Fki1bXW2HHT_8DCRzd-ipAMfXXFOHhF0dgTc6LVbrlZWYuoUJ9nLYwxCxlRZg-0gw0vLFblPvYY.JxUt0PHCf0WlLvyIYIXjADLZdKCXHxbFSGRbQRr-N3Q&dib_tag=se&qid=1738409123&rnid=1981298031&s=apparel&sr=1-8&th=1&psc=1'\n",
    "\n",
    "headers = {\"User-Agent\" : \"Mozilla/5.0 (Windows NT 10.0; Win64; x64) AppleWebKit/537.36 (KHTML, like Gecko) Chrome/132.0.0.0 Safari/537.36\" , \"Accept-Encoding\":\"gzip, deflate\", \"Accept\":\"text/html,application/xhtml+xml,application/xml;q=0.9,*/*;q=0.8\", \"DNT\":\"1\",\"Connection\":\"close\", \"Upgrade-Insecure-Requests\":\"1\"}\n",
    "\n",
    "page = requests.get(URL, headers = headers)\n",
    "\n",
    "soup1 = BeautifulSoup(page.content, \"html.parser\")\n",
    "\n",
    "soup2 = BeautifulSoup(soup1.prettify(), \"html.parser\")\n",
    "\n",
    "\n",
    "title = soup2.find(id = \"productTitle\").get_text().strip()\n",
    "\n",
    "pr = soup2.find('span', class_ = \"aok-offscreen\").get_text()\n",
    "t = pr.split()\n",
    "price = t[0][1:]\n",
    "\n",
    "print(title)\n",
    "print(price)\n",
    "\n"
   ]
  },
  {
   "cell_type": "code",
   "execution_count": 38,
   "id": "3f117734",
   "metadata": {},
   "outputs": [],
   "source": [
    "import csv\n",
    "\n",
    "header = ['Title', 'Price', 'Date']\n",
    "data = [title, price, today]\n",
    "\n",
    "\n",
    "with open('AmazonWebScraperDataset.csv', 'w', newline ='', encoding = 'UTF8') as f:\n",
    "    writer = csv.writer(f)\n",
    "    writer.writerow(header)\n",
    "    writer.writerow(data)\n",
    "\n"
   ]
  },
  {
   "cell_type": "code",
   "execution_count": 24,
   "id": "5b814540",
   "metadata": {},
   "outputs": [
    {
     "name": "stdout",
     "output_type": "stream",
     "text": [
      "2025-02-01\n"
     ]
    }
   ],
   "source": [
    "import datetime\n",
    "today = datetime.date.today()\n",
    "print(today)"
   ]
  },
  {
   "cell_type": "code",
   "execution_count": 42,
   "id": "3a246162",
   "metadata": {},
   "outputs": [
    {
     "data": {
      "text/html": [
       "<div>\n",
       "<style scoped>\n",
       "    .dataframe tbody tr th:only-of-type {\n",
       "        vertical-align: middle;\n",
       "    }\n",
       "\n",
       "    .dataframe tbody tr th {\n",
       "        vertical-align: top;\n",
       "    }\n",
       "\n",
       "    .dataframe thead th {\n",
       "        text-align: right;\n",
       "    }\n",
       "</style>\n",
       "<table border=\"1\" class=\"dataframe\">\n",
       "  <thead>\n",
       "    <tr style=\"text-align: right;\">\n",
       "      <th></th>\n",
       "      <th>Title</th>\n",
       "      <th>Price</th>\n",
       "      <th>Date</th>\n",
       "    </tr>\n",
       "  </thead>\n",
       "  <tbody>\n",
       "    <tr>\n",
       "      <th>0</th>\n",
       "      <td>GANT Herren Reg Shield C-Neck Sweat Sweatshirt</td>\n",
       "      <td>69.31</td>\n",
       "      <td>2025-02-01</td>\n",
       "    </tr>\n",
       "    <tr>\n",
       "      <th>1</th>\n",
       "      <td>GANT Herren Reg Shield C-Neck Sweat Sweatshirt</td>\n",
       "      <td>69.31</td>\n",
       "      <td>2025-02-01</td>\n",
       "    </tr>\n",
       "    <tr>\n",
       "      <th>2</th>\n",
       "      <td>GANT Herren Reg Shield C-Neck Sweat Sweatshirt</td>\n",
       "      <td>69.31</td>\n",
       "      <td>2025-02-01</td>\n",
       "    </tr>\n",
       "  </tbody>\n",
       "</table>\n",
       "</div>"
      ],
      "text/plain": [
       "                                            Title  Price        Date\n",
       "0  GANT Herren Reg Shield C-Neck Sweat Sweatshirt  69.31  2025-02-01\n",
       "1  GANT Herren Reg Shield C-Neck Sweat Sweatshirt  69.31  2025-02-01\n",
       "2  GANT Herren Reg Shield C-Neck Sweat Sweatshirt  69.31  2025-02-01"
      ]
     },
     "execution_count": 42,
     "metadata": {},
     "output_type": "execute_result"
    }
   ],
   "source": [
    "import pandas as pd\n",
    "\n",
    "df = pd.read_csv(r'AmazonWebScraperDataset.csv')\n",
    "df\n"
   ]
  },
  {
   "cell_type": "code",
   "execution_count": null,
   "id": "6761eda1",
   "metadata": {},
   "outputs": [],
   "source": [
    "#Appending data to the csv\n",
    "\n",
    "with open('AmazonWebScraperDataset.csv', 'w', newline ='', encoding = 'UTF8') as f:\n",
    "    writer = csv.writer(f)\n",
    "    writer.writerow(header)\n",
    "    writer.writerow(data)\n"
   ]
  },
  {
   "cell_type": "code",
   "execution_count": 47,
   "id": "a28bb57e",
   "metadata": {},
   "outputs": [],
   "source": [
    "#Function to get the price of the product\n",
    "\n",
    "def check_price():\n",
    "    URL = 'https://www.amazon.de/-/en/Shield-C-Neck-Sweat-Sweatshirt-Evening/dp/B0BG59PYCK/ref=sr_1_8?dib=eyJ2IjoiMSJ9.bjBtM7f78BZO3TzyqxjFuehAmlnq1vmkP5_2xzsqpLRdvlIXn_7DN0KOPJWH7isg4DVDsl1pmaKk7v9ptmgfqYH3atjCYfj7YEuYuq5CnRmu7UE5515tg111XzJiMXnBWqHHLbgfZRErjQFzTHfOFfN5lDzoE-xLsz2VCbRKSiOSpt6GYZbtHGts2_JNpRhZPBTtOzS3IPqyN-0puGruynBUcADsXkxpY5YusA80Jp9kCA66DesVZIA9BKUZ6wUsq7CBMVhIF_WCSqeE6qta1Qoe1JxiRtppoelhBgK7xd2tvLm8WS1suczes_I1pdLuuc81XMXQa-_2q7MbjIj6eOcnVLDVFcTWzKogRYqojAJqoO3wOCu77Fki1bXW2HHT_8DCRzd-ipAMfXXFOHhF0dgTc6LVbrlZWYuoUJ9nLYwxCxlRZg-0gw0vLFblPvYY.JxUt0PHCf0WlLvyIYIXjADLZdKCXHxbFSGRbQRr-N3Q&dib_tag=se&qid=1738409123&rnid=1981298031&s=apparel&sr=1-8&th=1&psc=1'\n",
    "\n",
    "    headers = {\"User-Agent\" : \"Mozilla/5.0 (Windows NT 10.0; Win64; x64) AppleWebKit/537.36 (KHTML, like Gecko) Chrome/132.0.0.0 Safari/537.36\" , \"Accept-Encoding\":\"gzip, deflate\", \"Accept\":\"text/html,application/xhtml+xml,application/xml;q=0.9,*/*;q=0.8\", \"DNT\":\"1\",\"Connection\":\"close\", \"Upgrade-Insecure-Requests\":\"1\"}\n",
    "\n",
    "    page = requests.get(URL, headers = headers)\n",
    "\n",
    "    soup1 = BeautifulSoup(page.content, \"html.parser\")\n",
    "\n",
    "    soup2 = BeautifulSoup(soup1.prettify(), \"html.parser\")\n",
    "\n",
    "\n",
    "    title = soup2.find(id = \"productTitle\").get_text()\n",
    "    title = title.strip()\n",
    "\n",
    "    pr = soup2.find('span', class_ = \"aok-offscreen\").get_text()\n",
    "    t = pr.split()\n",
    "    price = t[0][1:]\n",
    "    \n",
    "    \n",
    "    import datetime\n",
    "    today = datetime.date.today()\n",
    "    \n",
    "    import csv\n",
    "\n",
    "    header = ['Title', 'Price', 'Date']\n",
    "    data = [title, price, today]\n",
    "\n",
    "    \n",
    "    import pandas as pd\n",
    "\n",
    "    df = pd.read_csv(r'AmazonWebScraperDataset.csv')\n",
    "    df\n",
    "    \n",
    "    with open('AmazonWebScraperDataset.csv', 'a+', newline ='', encoding = 'UTF8') as f:\n",
    "        writer = csv.writer(f)\n",
    "        writer.writerow(data)\n",
    "    if(price<70):\n",
    "        send_mail()\n",
    "\n",
    "\n",
    "    \n",
    " "
   ]
  },
  {
   "cell_type": "code",
   "execution_count": 45,
   "id": "13208e41",
   "metadata": {},
   "outputs": [
    {
     "data": {
      "text/html": [
       "<div>\n",
       "<style scoped>\n",
       "    .dataframe tbody tr th:only-of-type {\n",
       "        vertical-align: middle;\n",
       "    }\n",
       "\n",
       "    .dataframe tbody tr th {\n",
       "        vertical-align: top;\n",
       "    }\n",
       "\n",
       "    .dataframe thead th {\n",
       "        text-align: right;\n",
       "    }\n",
       "</style>\n",
       "<table border=\"1\" class=\"dataframe\">\n",
       "  <thead>\n",
       "    <tr style=\"text-align: right;\">\n",
       "      <th></th>\n",
       "      <th>Title</th>\n",
       "      <th>Price</th>\n",
       "      <th>Date</th>\n",
       "    </tr>\n",
       "  </thead>\n",
       "  <tbody>\n",
       "    <tr>\n",
       "      <th>0</th>\n",
       "      <td>GANT Herren Reg Shield C-Neck Sweat Sweatshirt</td>\n",
       "      <td>69.31</td>\n",
       "      <td>2025-02-01</td>\n",
       "    </tr>\n",
       "    <tr>\n",
       "      <th>1</th>\n",
       "      <td>GANT Herren Reg Shield C-Neck Sweat Sweatshirt</td>\n",
       "      <td>69.31</td>\n",
       "      <td>2025-02-01</td>\n",
       "    </tr>\n",
       "    <tr>\n",
       "      <th>2</th>\n",
       "      <td>GANT Herren Reg Shield C-Neck Sweat Sweatshirt</td>\n",
       "      <td>69.31</td>\n",
       "      <td>2025-02-01</td>\n",
       "    </tr>\n",
       "  </tbody>\n",
       "</table>\n",
       "</div>"
      ],
      "text/plain": [
       "                                            Title  Price        Date\n",
       "0  GANT Herren Reg Shield C-Neck Sweat Sweatshirt  69.31  2025-02-01\n",
       "1  GANT Herren Reg Shield C-Neck Sweat Sweatshirt  69.31  2025-02-01\n",
       "2  GANT Herren Reg Shield C-Neck Sweat Sweatshirt  69.31  2025-02-01"
      ]
     },
     "execution_count": 45,
     "metadata": {},
     "output_type": "execute_result"
    }
   ],
   "source": [
    "df"
   ]
  },
  {
   "cell_type": "code",
   "execution_count": null,
   "id": "4edd7c34",
   "metadata": {},
   "outputs": [],
   "source": [
    "#Runs check price after a set time\n",
    "\n",
    "while(True):\n",
    "    check_price()\n",
    "    time.sleep(5)"
   ]
  },
  {
   "cell_type": "code",
   "execution_count": 49,
   "id": "fcdc3fa7",
   "metadata": {},
   "outputs": [],
   "source": [
    "# If you want to try sending yourself an email (just for fun) when a price hits below a certain level you can try it\n",
    "# out with this script\n",
    "\n",
    "def send_mail():\n",
    "    server = smtplib.SMTP_SSL('smtp.gmail.com',465)\n",
    "    server.ehlo()\n",
    "    #server.starttls()\n",
    "    server.ehlo()\n",
    "    server.login('appuonline5487@gmail.com','xxxxxx')\n",
    "    \n",
    "    subject = \"The T-Shirt you want is below €70! Now is your chance to buy!\"\n",
    "    body = \"Sonu, This is the moment we have been waiting for. Now is your chance to pick up the T-shirt of your dreams. Don't mess it up! Link here: https://www.amazon.de/-/en/Shield-C-Neck-Sweat-Sweatshirt-Evening/dp/B0BG59PYCK/ref=sr_1_8?dib=eyJ2IjoiMSJ9.bjBtM7f78BZO3TzyqxjFuehAmlnq1vmkP5_2xzsqpLRdvlIXn_7DN0KOPJWH7isg4DVDsl1pmaKk7v9ptmgfqYH3atjCYfj7YEuYuq5CnRmu7UE5515tg111XzJiMXnBWqHHLbgfZRErjQFzTHfOFfN5lDzoE-xLsz2VCbRKSiOSpt6GYZbtHGts2_JNpRhZPBTtOzS3IPqyN-0puGruynBUcADsXkxpY5YusA80Jp9kCA66DesVZIA9BKUZ6wUsq7CBMVhIF_WCSqeE6qta1Qoe1JxiRtppoelhBgK7xd2tvLm8WS1suczes_I1pdLuuc81XMXQa-_2q7MbjIj6eOcnVLDVFcTWzKogRYqojAJqoO3wOCu77Fki1bXW2HHT_8DCRzd-ipAMfXXFOHhF0dgTc6LVbrlZWYuoUJ9nLYwxCxlRZg-0gw0vLFblPvYY.JxUt0PHCf0WlLvyIYIXjADLZdKCXHxbFSGRbQRr-N3Q&dib_tag=se&qid=1738409123&rnid=1981298031&s=apparel&sr=1-8&th=1&psc=1'\"\n",
    "   \n",
    "    msg = f\"Subject: {subject}\\n\\n{body}\"\n",
    "    \n",
    "    server.sendmail(\n",
    "        'appuonline5487@gmail.com',\n",
    "        msg\n",
    "     \n",
    "    )"
   ]
  }
 ],
 "metadata": {
  "kernelspec": {
   "display_name": "Python 3 (ipykernel)",
   "language": "python",
   "name": "python3"
  },
  "language_info": {
   "codemirror_mode": {
    "name": "ipython",
    "version": 3
   },
   "file_extension": ".py",
   "mimetype": "text/x-python",
   "name": "python",
   "nbconvert_exporter": "python",
   "pygments_lexer": "ipython3",
   "version": "3.11.5"
  }
 },
 "nbformat": 4,
 "nbformat_minor": 5
}
